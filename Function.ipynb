{
 "cells": [
  {
   "cell_type": "markdown",
   "id": "7c8f1add",
   "metadata": {},
   "source": [
    "Functions"
   ]
  },
  {
   "cell_type": "code",
   "execution_count": 15,
   "id": "5713974c",
   "metadata": {},
   "outputs": [],
   "source": [
    "# 1. What is the difference between a function and a method in Python?\n",
    "\n",
    "# Ans - \n",
    "# Function - A function is a block of reusable code that performs a specific task. It is defined using the def keyword.\n",
    "# Method - A method is essentially a function that is associated with an object. It is defined within a class and operates on the data (attributes) contained in that class."
   ]
  },
  {
   "cell_type": "code",
   "execution_count": 14,
   "id": "3e9a70c3",
   "metadata": {},
   "outputs": [
    {
     "data": {
      "text/plain": [
       "62"
      ]
     },
     "execution_count": 14,
     "metadata": {},
     "output_type": "execute_result"
    }
   ],
   "source": [
    "# 2. Explain the concept of function arguments and parameters in Python.\n",
    "\n",
    "#Ans - \n",
    "# Parameters - Parameters are the varaible defined in a function's declaration(or defination). \n",
    "# They act as placeholders that specify what kind of data  functions expects when it is called.\n",
    "\n",
    "# Argumens - Arguments are the actual value that are provided to the function when they are called.\n",
    "# These values are assigned to corresponding parameters.\n"
   ]
  },
  {
   "cell_type": "code",
   "execution_count": 16,
   "id": "8ba4d801",
   "metadata": {},
   "outputs": [],
   "source": [
    "# 3. What are the different ways to define and call a function in Python?\n",
    "\n",
    "#Ans\n",
    "# There are two ways to define and call the function - \n",
    "# 1) defining the function using \"def\" keyword.\n",
    "# 2) using lambda to define and call the function."
   ]
  },
  {
   "cell_type": "code",
   "execution_count": 17,
   "id": "7ae1f196",
   "metadata": {},
   "outputs": [],
   "source": [
    "# 4. What is the purpose of the `return` statement in a Python function?\n",
    "\n",
    "#Ans \n",
    "# The return statment provides the value of a function in the form they were executed.\n",
    "# for e.g if a function was to provide sum of two numbers then the sum provided will be in int form."
   ]
  },
  {
   "cell_type": "code",
   "execution_count": 18,
   "id": "c524c12a",
   "metadata": {},
   "outputs": [],
   "source": [
    "# 5. What are iterators in Python and how do they differ from iterables?\n",
    "\n",
    "# Ans - \n",
    "# An iterable  is any python object or or data structure that is capable of returning its value one at a time.\n",
    "# Iterator is the function that python uses to provide value on by one from iterable object. "
   ]
  },
  {
   "cell_type": "code",
   "execution_count": 19,
   "id": "af541d7d",
   "metadata": {},
   "outputs": [],
   "source": [
    "# 6. Explain the concept of generators in Python and how they are defined.\n",
    "\n",
    "# Ans -\n",
    "# Generators are similar to functions but rather than using \"return\" keyword they use \"yield\".\n",
    "# Generators rather than providing value after the complete execution of the areguments are done, it provides value after every argument is executed.\n",
    "# This helps in memory efficieny."
   ]
  },
  {
   "cell_type": "code",
   "execution_count": 20,
   "id": "721c47f2",
   "metadata": {},
   "outputs": [],
   "source": [
    "# 7. What are the advantages of using generators over regular functions?\n",
    "\n",
    "# Ans - \n",
    "# Generators provide value one by one rather than executing a providing the value of all the arguments in one go.\n",
    "# Due to above reason generators are fast for large datasets."
   ]
  },
  {
   "cell_type": "code",
   "execution_count": 21,
   "id": "ce3eab87",
   "metadata": {},
   "outputs": [],
   "source": [
    "# 8. What is a lambda function in Python and when is it typically used?\n",
    "\n",
    "# Ans -\n",
    "# Lambda function is also called anonymous function as it dose not require a defing name.\n",
    "# It can be used for small task. for eg: lambda x+y : x + y"
   ]
  },
  {
   "cell_type": "code",
   "execution_count": 22,
   "id": "eea5ebf8",
   "metadata": {},
   "outputs": [],
   "source": [
    "# 9. Explain the purpose and usage of the `map()` function in Python\n",
    "\n",
    "# Ans -\n",
    "# Execute a specified function for each item in iterable.\n",
    "# For eg: list(map(lambda x: x**2,[1,2,3,4])); this will provide the square of all the items in list.\n"
   ]
  },
  {
   "cell_type": "code",
   "execution_count": 24,
   "id": "500cb912",
   "metadata": {},
   "outputs": [
    {
     "data": {
      "text/plain": [
       "[1, 4, 9, 16]"
      ]
     },
     "execution_count": 24,
     "metadata": {},
     "output_type": "execute_result"
    }
   ],
   "source": [
    "# 10. What is the difference between `map()`, `reduce()`, and `filter()` functions in Python?\n",
    "\n",
    "# Ans - \n",
    "# Map() - Applies a given function to every element in an iterable and returns a new iterable with the result.\n",
    "# Reduce() - Applies a function cumulatively to the elements in an iterable,  reducing it to single value.\n",
    "# Filter () - Filters out the interable which satisfy the boolean condition of the function."
   ]
  },
  {
   "cell_type": "code",
   "execution_count": 27,
   "id": "5046e839",
   "metadata": {},
   "outputs": [],
   "source": [
    "# # Using pen & Paper write the internal mechanism for sum operation using  reduce function on this given\n",
    "# list:[47,11,42,13]\n",
    "\n",
    "# Ans -\n",
    "# function - from functools import reduce\n",
    "# reduce(lambda x,y: x+y,[47,11,42,13]))\n",
    "# First 47 and 11 will be assigned to x & y respectively.\n",
    "# Second the sum of 47 & 11(58) will become value of x, and y will be assigned 42.\n",
    "# Third sum of 58 & 42(100) will be assigned to x & 13 will be assigned to y.\n",
    "# Fourth sum of 100 & 13(113) will be given as final result"
   ]
  },
  {
   "cell_type": "markdown",
   "id": "5bb982ef",
   "metadata": {},
   "source": [
    "Practical Questions"
   ]
  },
  {
   "cell_type": "code",
   "execution_count": 31,
   "id": "3ad54c46",
   "metadata": {},
   "outputs": [
    {
     "data": {
      "text/plain": [
       "36"
      ]
     },
     "execution_count": 31,
     "metadata": {},
     "output_type": "execute_result"
    }
   ],
   "source": [
    "# 1. Write a Python function that takes a list of numbers as input and returns the sum of all even numbers in\n",
    "# the list.\n",
    "\n",
    "from functools import reduce\n",
    "\n",
    "reduce(lambda x,y: x+y,[1,2,3,4,5,6,7,8])"
   ]
  },
  {
   "cell_type": "code",
   "execution_count": 32,
   "id": "5b3fb1a3",
   "metadata": {},
   "outputs": [],
   "source": [
    "# 2. Create a Python function that accepts a string and returns the reverse of that string.\n",
    "\n",
    "def reverse(x):\n",
    "    return x[::-1]"
   ]
  },
  {
   "cell_type": "code",
   "execution_count": 35,
   "id": "ab96d708",
   "metadata": {},
   "outputs": [
    {
     "data": {
      "text/plain": [
       "[1, 4, 9, 16, 25, 36]"
      ]
     },
     "execution_count": 35,
     "metadata": {},
     "output_type": "execute_result"
    }
   ],
   "source": [
    "# # 3. Implement a Python function that takes a list of integers and returns a new list containing the squares of\n",
    "# each number.\n",
    "\n",
    "list(map(lambda x: x**2,[1,2,3,4,5,6]))"
   ]
  },
  {
   "cell_type": "code",
   "execution_count": 82,
   "id": "a08b21a5",
   "metadata": {},
   "outputs": [
    {
     "name": "stdout",
     "output_type": "stream",
     "text": [
      "Prime numbers from 1 to 100 [2, 3, 5, 7, 11, 13, 17, 19, 23, 29, 31, 37, 41, 43, 47, 53, 59, 61, 67, 71, 73, 79, 83, 89, 97, 101, 103, 107, 109, 113, 127, 131, 137, 139, 149, 151, 157, 163, 167, 173, 179, 181, 191, 193, 197, 199]\n"
     ]
    }
   ],
   "source": [
    "    # 4. Write a Python function that checks if a given number is prime or not from 1 to 200.\n",
    "\n",
    "    def prime(num):\n",
    "        if num <= 1:\n",
    "            return \"Not a prime number\"\n",
    "        if num == 2:\n",
    "            return \"This is a prime number\"\n",
    "\n",
    "        for i in range(2,int(num**0.5)+1):\n",
    "            if num % i == 0:\n",
    "                return \"Not a prime number\"\n",
    "        return \"This is a prime number\"\n",
    "\n",
    "    def prime_in_range(start,end):\n",
    "        primes = []\n",
    "        for num in range(start,end+1):\n",
    "            if prime(num) == \"This is a prime number\":\n",
    "                primes.append(num)\n",
    "        return primes\n",
    "\n",
    "    prime_numbers = prime_in_range(1,200)\n",
    "    print(\"Prime numbers from 1 to 100\",prime_numbers)"
   ]
  },
  {
   "cell_type": "code",
   "execution_count": 38,
   "id": "c3a2d12a",
   "metadata": {},
   "outputs": [],
   "source": [
    "# 5. Create an iterator class in Python that generates the Fibonacci sequence up to a specified number of\n",
    "# terms\n",
    "\n",
    "def fib(x):\n",
    "    a = 0\n",
    "    b = 1\n",
    "    for i in range(x):\n",
    "        yield a\n",
    "        a,b = b,b+1\n",
    "           "
   ]
  },
  {
   "cell_type": "code",
   "execution_count": 75,
   "id": "700a0b8b",
   "metadata": {},
   "outputs": [
    {
     "data": {
      "text/plain": [
       "2"
      ]
     },
     "execution_count": 75,
     "metadata": {},
     "output_type": "execute_result"
    }
   ],
   "source": [
    "# 6. Write a generator function in Python that yields the powers of 2 up to a given exponent.\n",
    "\n",
    "def power(x):\n",
    "    for i in range(x+1):\n",
    "        yield 2**i\n"
   ]
  },
  {
   "cell_type": "code",
   "execution_count": 76,
   "id": "f6282051",
   "metadata": {},
   "outputs": [],
   "source": [
    "# 7. Implement a generator function that reads a file line by line and yields each line as a string.\n",
    "\n",
    "def read_file_line_by_line(file_path):\n",
    "     with open(file_path, 'r') as file:\n",
    "        for line in file:\n",
    "            yield line.rstrip('\\n')"
   ]
  },
  {
   "cell_type": "code",
   "execution_count": 84,
   "id": "969758a6",
   "metadata": {},
   "outputs": [
    {
     "data": {
      "text/plain": [
       "[(2, 1), (3, 4), (5, 6)]"
      ]
     },
     "execution_count": 84,
     "metadata": {},
     "output_type": "execute_result"
    }
   ],
   "source": [
    "# 8. Use a lambda function in Python to sort a list of tuples based on the second element of each tuple.\n",
    "\n",
    "sorted_list = sorted([(2, 1), (3, 4), (5, 6)],key = lambda x:x[1])\n",
    "sorted_list"
   ]
  },
  {
   "cell_type": "code",
   "execution_count": 90,
   "id": "3b08bd67",
   "metadata": {},
   "outputs": [
    {
     "data": {
      "text/plain": [
       "[89, 86, 87, 95, 98, 100, 102]"
      ]
     },
     "execution_count": 90,
     "metadata": {},
     "output_type": "execute_result"
    }
   ],
   "source": [
    "#  Write a Python program that uses `map()` to convert a list of temperatures from Celsius to Fahrenheit.\n",
    "\n",
    "Celsius_Temprature = [32,30,31,35,37,38,39]\n",
    "\n",
    "list(map(lambda x: int((x*1.8)) + 32,Celsius_Temprature))"
   ]
  },
  {
   "cell_type": "code",
   "execution_count": 96,
   "id": "1f2b8cdc",
   "metadata": {},
   "outputs": [
    {
     "name": "stdout",
     "output_type": "stream",
     "text": [
      "Aditya\n"
     ]
    },
    {
     "data": {
      "text/plain": [
       "'dty'"
      ]
     },
     "execution_count": 96,
     "metadata": {},
     "output_type": "execute_result"
    }
   ],
   "source": [
    "# 10. Create a Python program that uses `filter()` to remove all the vowels from a given string.\n",
    "vowels = ['a','e','i','o','u']\n",
    "\n",
    "filtered_result = list(filter(lambda x: x.lower() not in vowels,input()))\n",
    "''.join(filtered_result)"
   ]
  },
  {
   "cell_type": "code",
   "execution_count": 15,
   "id": "f9886af1",
   "metadata": {},
   "outputs": [
    {
     "data": {
      "text/plain": [
       "[(34587, 163.8), (98762, 284.0), (77226, 108.9), (88112, 85.0)]"
      ]
     },
     "execution_count": 15,
     "metadata": {},
     "output_type": "execute_result"
    }
   ],
   "source": [
    "# 11) Imagine an accounting routine used in a book shop. It works on a list with sublists, which look like this:\n",
    "\n",
    "\"\"\"\n",
    "  Order Number        Book Title & Author                       QT           Price\n",
    "    \n",
    "    34587             Learning Python, Mark Lutz                4            40.95\n",
    "    98762             Programming Python, Mark Lutz             5            56.80 \n",
    "    77226             Head First Python, Paul Barry             3            32.95\n",
    "    88112             Einfuhrung in Python3, Bernd Klien        3            24.99\n",
    "\n",
    "\"\"\"\n",
    "\n",
    "# Write a Python program, which returns a list with 2-tuples. Each tuple consists of the order number and the\n",
    "# product of the price per item and the quantity. The product should be increased by 10,- € if the value of the\n",
    "# order is smaller than 100,00 €.\n",
    "\n",
    "Qty  = [4,5,3,3]\n",
    "Price = [40.95,56.80,32.95,24.99]\n",
    "Order = [34587,98762,77226,88112]\n",
    "\n",
    "Order_Value = list(map(lambda x,y:round((x * y),1) + 10 if (x * y) < 100 else round(x*y,1),Qty,Price))\n",
    "\n",
    "result = list(zip(Order, Order_Value))\n",
    "result"
   ]
  },
  {
   "cell_type": "code",
   "execution_count": 5,
   "id": "5c8ddc8e",
   "metadata": {},
   "outputs": [
    {
     "data": {
      "text/plain": [
       "108.9"
      ]
     },
     "execution_count": 5,
     "metadata": {},
     "output_type": "execute_result"
    }
   ],
   "source": []
  },
  {
   "cell_type": "code",
   "execution_count": null,
   "id": "d4d7670b",
   "metadata": {},
   "outputs": [],
   "source": []
  }
 ],
 "metadata": {
  "kernelspec": {
   "display_name": "Python 3 (ipykernel)",
   "language": "python",
   "name": "python3"
  },
  "language_info": {
   "codemirror_mode": {
    "name": "ipython",
    "version": 3
   },
   "file_extension": ".py",
   "mimetype": "text/x-python",
   "name": "python",
   "nbconvert_exporter": "python",
   "pygments_lexer": "ipython3",
   "version": "3.9.7"
  }
 },
 "nbformat": 4,
 "nbformat_minor": 5
}
